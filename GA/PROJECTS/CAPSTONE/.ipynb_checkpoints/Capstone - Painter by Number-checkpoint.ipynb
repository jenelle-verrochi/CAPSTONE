{
 "cells": [
  {
   "cell_type": "markdown",
   "metadata": {},
   "source": [
    "### Painter by Number"
   ]
  },
  {
   "cell_type": "markdown",
   "metadata": {},
   "source": [
    "This data was downloaded from kaggle and read into this notebook.  A training set has already been split out (as per below).  The data lists several features of thousands of pieces of art which also have corresponding images.  I plan to extract additional feautes from the images.  My goal will be to try to predict the year that a painting was created.  I will try both Linear Regression models and Classification models to see where I can be more accurate.\n",
    "\n",
    "Risks are that it will be difficult and time consuming to extract features from the images."
   ]
  },
  {
   "cell_type": "code",
   "execution_count": 1,
   "metadata": {
    "collapsed": true
   },
   "outputs": [],
   "source": [
    "import numpy as np\n",
    "import pandas as pd"
   ]
  },
  {
   "cell_type": "code",
   "execution_count": 136,
   "metadata": {},
   "outputs": [],
   "source": [
    "train_info = pd.read_csv('/Users/jenelleverrochi/Desktop/Capstone/train_info.csv')\n",
    "all_data_info = pd.read_csv('/Users/jenelleverrochi/Desktop/Capstone/all_data_info.csv')"
   ]
  },
  {
   "cell_type": "code",
   "execution_count": 5,
   "metadata": {},
   "outputs": [
    {
     "data": {
      "text/html": [
       "<div>\n",
       "<style>\n",
       "    .dataframe thead tr:only-child th {\n",
       "        text-align: right;\n",
       "    }\n",
       "\n",
       "    .dataframe thead th {\n",
       "        text-align: left;\n",
       "    }\n",
       "\n",
       "    .dataframe tbody tr th {\n",
       "        vertical-align: top;\n",
       "    }\n",
       "</style>\n",
       "<table border=\"1\" class=\"dataframe\">\n",
       "  <thead>\n",
       "    <tr style=\"text-align: right;\">\n",
       "      <th></th>\n",
       "      <th>filename</th>\n",
       "      <th>artist</th>\n",
       "      <th>title</th>\n",
       "      <th>style</th>\n",
       "      <th>genre</th>\n",
       "      <th>date</th>\n",
       "    </tr>\n",
       "  </thead>\n",
       "  <tbody>\n",
       "    <tr>\n",
       "      <th>0</th>\n",
       "      <td>102257.jpg</td>\n",
       "      <td>5b39c876740bfc1cfaf544721c43cac3</td>\n",
       "      <td>Uriel</td>\n",
       "      <td>Color Field Painting</td>\n",
       "      <td>abstract</td>\n",
       "      <td>1955.0</td>\n",
       "    </tr>\n",
       "    <tr>\n",
       "      <th>1</th>\n",
       "      <td>75232.jpg</td>\n",
       "      <td>5b39c876740bfc1cfaf544721c43cac3</td>\n",
       "      <td>Vir Heroicus Sublimis</td>\n",
       "      <td>Color Field Painting</td>\n",
       "      <td>abstract</td>\n",
       "      <td>1950.0</td>\n",
       "    </tr>\n",
       "    <tr>\n",
       "      <th>2</th>\n",
       "      <td>29855.jpg</td>\n",
       "      <td>96e5bc98488ed589b9bf17ad9fd09371</td>\n",
       "      <td>Night March of a Hundred Demons (left half)</td>\n",
       "      <td>Yamato-e</td>\n",
       "      <td>mythological painting</td>\n",
       "      <td>NaN</td>\n",
       "    </tr>\n",
       "    <tr>\n",
       "      <th>3</th>\n",
       "      <td>62252.jpg</td>\n",
       "      <td>5b39c876740bfc1cfaf544721c43cac3</td>\n",
       "      <td>Who’s Afraid of Red,  Yellow and Blue II</td>\n",
       "      <td>Color Field Painting</td>\n",
       "      <td>abstract</td>\n",
       "      <td>NaN</td>\n",
       "    </tr>\n",
       "    <tr>\n",
       "      <th>4</th>\n",
       "      <td>63861.jpg</td>\n",
       "      <td>5b39c876740bfc1cfaf544721c43cac3</td>\n",
       "      <td>Black Fire I</td>\n",
       "      <td>Color Field Painting</td>\n",
       "      <td>abstract</td>\n",
       "      <td>1963.0</td>\n",
       "    </tr>\n",
       "  </tbody>\n",
       "</table>\n",
       "</div>"
      ],
      "text/plain": [
       "     filename                            artist  \\\n",
       "0  102257.jpg  5b39c876740bfc1cfaf544721c43cac3   \n",
       "1   75232.jpg  5b39c876740bfc1cfaf544721c43cac3   \n",
       "2   29855.jpg  96e5bc98488ed589b9bf17ad9fd09371   \n",
       "3   62252.jpg  5b39c876740bfc1cfaf544721c43cac3   \n",
       "4   63861.jpg  5b39c876740bfc1cfaf544721c43cac3   \n",
       "\n",
       "                                         title                 style  \\\n",
       "0                                        Uriel  Color Field Painting   \n",
       "1                        Vir Heroicus Sublimis  Color Field Painting   \n",
       "2  Night March of a Hundred Demons (left half)              Yamato-e   \n",
       "3     Who’s Afraid of Red,  Yellow and Blue II  Color Field Painting   \n",
       "4                                Black Fire I   Color Field Painting   \n",
       "\n",
       "                   genre    date  \n",
       "0               abstract  1955.0  \n",
       "1               abstract  1950.0  \n",
       "2  mythological painting     NaN  \n",
       "3               abstract     NaN  \n",
       "4               abstract  1963.0  "
      ]
     },
     "execution_count": 5,
     "metadata": {},
     "output_type": "execute_result"
    }
   ],
   "source": [
    "train_info.head()"
   ]
  },
  {
   "cell_type": "code",
   "execution_count": 7,
   "metadata": {},
   "outputs": [
    {
     "data": {
      "text/html": [
       "<div>\n",
       "<style>\n",
       "    .dataframe thead tr:only-child th {\n",
       "        text-align: right;\n",
       "    }\n",
       "\n",
       "    .dataframe thead th {\n",
       "        text-align: left;\n",
       "    }\n",
       "\n",
       "    .dataframe tbody tr th {\n",
       "        vertical-align: top;\n",
       "    }\n",
       "</style>\n",
       "<table border=\"1\" class=\"dataframe\">\n",
       "  <thead>\n",
       "    <tr style=\"text-align: right;\">\n",
       "      <th></th>\n",
       "      <th>artist</th>\n",
       "      <th>date</th>\n",
       "      <th>genre</th>\n",
       "      <th>pixelsx</th>\n",
       "      <th>pixelsy</th>\n",
       "      <th>size_bytes</th>\n",
       "      <th>source</th>\n",
       "      <th>style</th>\n",
       "      <th>title</th>\n",
       "      <th>artist_group</th>\n",
       "      <th>in_train</th>\n",
       "      <th>new_filename</th>\n",
       "    </tr>\n",
       "  </thead>\n",
       "  <tbody>\n",
       "    <tr>\n",
       "      <th>0</th>\n",
       "      <td>Barnett Newman</td>\n",
       "      <td>1955.0</td>\n",
       "      <td>abstract</td>\n",
       "      <td>15530.0</td>\n",
       "      <td>6911.0</td>\n",
       "      <td>9201912.0</td>\n",
       "      <td>wikiart</td>\n",
       "      <td>Color Field Painting</td>\n",
       "      <td>Uriel</td>\n",
       "      <td>train_only</td>\n",
       "      <td>True</td>\n",
       "      <td>102257.jpg</td>\n",
       "    </tr>\n",
       "    <tr>\n",
       "      <th>1</th>\n",
       "      <td>Barnett Newman</td>\n",
       "      <td>1950.0</td>\n",
       "      <td>abstract</td>\n",
       "      <td>14559.0</td>\n",
       "      <td>6866.0</td>\n",
       "      <td>8867532.0</td>\n",
       "      <td>wikiart</td>\n",
       "      <td>Color Field Painting</td>\n",
       "      <td>Vir Heroicus Sublimis</td>\n",
       "      <td>train_only</td>\n",
       "      <td>True</td>\n",
       "      <td>75232.jpg</td>\n",
       "    </tr>\n",
       "    <tr>\n",
       "      <th>2</th>\n",
       "      <td>kiri nichol</td>\n",
       "      <td>2013.0</td>\n",
       "      <td>NaN</td>\n",
       "      <td>9003.0</td>\n",
       "      <td>9004.0</td>\n",
       "      <td>1756681.0</td>\n",
       "      <td>NaN</td>\n",
       "      <td>Neoplasticism</td>\n",
       "      <td>NaN</td>\n",
       "      <td>test_only</td>\n",
       "      <td>False</td>\n",
       "      <td>32145.jpg</td>\n",
       "    </tr>\n",
       "    <tr>\n",
       "      <th>3</th>\n",
       "      <td>kiri nichol</td>\n",
       "      <td>2013.0</td>\n",
       "      <td>NaN</td>\n",
       "      <td>9003.0</td>\n",
       "      <td>9004.0</td>\n",
       "      <td>1942046.0</td>\n",
       "      <td>NaN</td>\n",
       "      <td>Neoplasticism</td>\n",
       "      <td>NaN</td>\n",
       "      <td>test_only</td>\n",
       "      <td>False</td>\n",
       "      <td>20304.jpg</td>\n",
       "    </tr>\n",
       "    <tr>\n",
       "      <th>4</th>\n",
       "      <td>kiri nichol</td>\n",
       "      <td>2013.0</td>\n",
       "      <td>NaN</td>\n",
       "      <td>9003.0</td>\n",
       "      <td>9004.0</td>\n",
       "      <td>1526212.0</td>\n",
       "      <td>NaN</td>\n",
       "      <td>Neoplasticism</td>\n",
       "      <td>NaN</td>\n",
       "      <td>test_only</td>\n",
       "      <td>False</td>\n",
       "      <td>836.jpg</td>\n",
       "    </tr>\n",
       "  </tbody>\n",
       "</table>\n",
       "</div>"
      ],
      "text/plain": [
       "           artist    date     genre  pixelsx  pixelsy  size_bytes   source  \\\n",
       "0  Barnett Newman  1955.0  abstract  15530.0   6911.0   9201912.0  wikiart   \n",
       "1  Barnett Newman  1950.0  abstract  14559.0   6866.0   8867532.0  wikiart   \n",
       "2     kiri nichol  2013.0       NaN   9003.0   9004.0   1756681.0      NaN   \n",
       "3     kiri nichol  2013.0       NaN   9003.0   9004.0   1942046.0      NaN   \n",
       "4     kiri nichol  2013.0       NaN   9003.0   9004.0   1526212.0      NaN   \n",
       "\n",
       "                  style                  title artist_group  in_train  \\\n",
       "0  Color Field Painting                  Uriel   train_only      True   \n",
       "1  Color Field Painting  Vir Heroicus Sublimis   train_only      True   \n",
       "2         Neoplasticism                    NaN    test_only     False   \n",
       "3         Neoplasticism                    NaN    test_only     False   \n",
       "4         Neoplasticism                    NaN    test_only     False   \n",
       "\n",
       "  new_filename  \n",
       "0   102257.jpg  \n",
       "1    75232.jpg  \n",
       "2    32145.jpg  \n",
       "3    20304.jpg  \n",
       "4      836.jpg  "
      ]
     },
     "execution_count": 7,
     "metadata": {},
     "output_type": "execute_result"
    }
   ],
   "source": [
    "all_data_info.head()"
   ]
  },
  {
   "cell_type": "code",
   "execution_count": 137,
   "metadata": {},
   "outputs": [
    {
     "data": {
      "text/plain": [
       "artist              0\n",
       "date            26363\n",
       "genre            1254\n",
       "pixelsx             0\n",
       "pixelsy             0\n",
       "size_bytes          0\n",
       "source            167\n",
       "style             986\n",
       "title             122\n",
       "artist_group        0\n",
       "in_train            0\n",
       "new_filename        0\n",
       "dtype: int64"
      ]
     },
     "execution_count": 137,
     "metadata": {},
     "output_type": "execute_result"
    }
   ],
   "source": [
    "all_data_info.isnull().sum()"
   ]
  },
  {
   "cell_type": "code",
   "execution_count": 138,
   "metadata": {},
   "outputs": [],
   "source": [
    "all_nonull = all_data_info.dropna()"
   ]
  },
  {
   "cell_type": "code",
   "execution_count": 139,
   "metadata": {},
   "outputs": [
    {
     "data": {
      "text/plain": [
       "(103250, 12)"
      ]
     },
     "execution_count": 139,
     "metadata": {},
     "output_type": "execute_result"
    }
   ],
   "source": [
    "all_data_info.shape"
   ]
  },
  {
   "cell_type": "code",
   "execution_count": 140,
   "metadata": {},
   "outputs": [
    {
     "name": "stdout",
     "output_type": "stream",
     "text": [
      "<class 'pandas.core.frame.DataFrame'>\n",
      "Int64Index: 75858 entries, 0 to 103249\n",
      "Data columns (total 12 columns):\n",
      "artist          75858 non-null object\n",
      "date            75858 non-null object\n",
      "genre           75858 non-null object\n",
      "pixelsx         75858 non-null float64\n",
      "pixelsy         75858 non-null float64\n",
      "size_bytes      75858 non-null float64\n",
      "source          75858 non-null object\n",
      "style           75858 non-null object\n",
      "title           75858 non-null object\n",
      "artist_group    75858 non-null object\n",
      "in_train        75858 non-null bool\n",
      "new_filename    75858 non-null object\n",
      "dtypes: bool(1), float64(3), object(8)\n",
      "memory usage: 7.0+ MB\n"
     ]
    }
   ],
   "source": [
    "all_nonull.info()"
   ]
  },
  {
   "cell_type": "code",
   "execution_count": 48,
   "metadata": {},
   "outputs": [
    {
     "data": {
      "text/plain": [
       "Index(['artist', 'date', 'genre', 'pixelsx', 'pixelsy', 'size_bytes', 'source',\n",
       "       'style', 'title', 'artist_group', 'in_train', 'new_filename'],\n",
       "      dtype='object')"
      ]
     },
     "execution_count": 48,
     "metadata": {},
     "output_type": "execute_result"
    }
   ],
   "source": [
    "all_nonull.columns"
   ]
  },
  {
   "cell_type": "code",
   "execution_count": 141,
   "metadata": {
    "scrolled": true
   },
   "outputs": [
    {
     "data": {
      "text/plain": [
       "Paul Gauguin                                      494\n",
       "Martiros Saryan                                   491\n",
       "Vincent van Gogh                                  486\n",
       "John Singer Sargent                               480\n",
       "Claude Monet                                      479\n",
       "Marc Chagall                                      479\n",
       "Pablo Picasso                                     475\n",
       "Paul Cezanne                                      475\n",
       "Edgar Degas                                       472\n",
       "Pyotr Konchalovsky                                465\n",
       "Boris Kustodiev                                   462\n",
       "Nicholas Roerich                                  460\n",
       "Salvador Dali                                     454\n",
       "Childe Hassam                                     452\n",
       "Camille Pissarro                                  449\n",
       "Alfred Sisley                                     443\n",
       "Ivan Aivazovsky                                   442\n",
       "Ilya Repin                                        436\n",
       "Camille Corot                                     434\n",
       "Pierre-Auguste Renoir                             433\n",
       "Rembrandt                                         427\n",
       "Isaac Levitan                                     407\n",
       "Zinaida Serebriakova                              400\n",
       "Eugene Boudin                                     400\n",
       "Henri Matisse                                     375\n",
       "Maurice Prendergast                               375\n",
       "Ivan Shishkin                                     357\n",
       "Rene Magritte                                     353\n",
       "Henri de Toulouse-Lautrec                         350\n",
       "Peter Paul Rubens                                 328\n",
       "                                                 ... \n",
       "Kyoto                                               1\n",
       "with Vasiliy Shukhaev                               1\n",
       "Study in Tunis                                      1\n",
       "a rich guest\"                                       1\n",
       "The dance                                           1\n",
       "Southwest Texas                                     1\n",
       "(Fruit in Basket)                                   1\n",
       "II                                                  1\n",
       "S. Sebastien 3                                      1\n",
       "Arthur Rackham                                      1\n",
       "Maxime Lalanne                                      1\n",
       "Boceto para el velorio                              1\n",
       "Blue                                                1\n",
       "Appledore, Isles of Shoals                          1\n",
       "View of the Navy Arsenal                            1\n",
       "Re Rom 337                                          1\n",
       "The Great Sea                                       1\n",
       "Bali                                                1\n",
       "M. F. S.                                            1\n",
       "The White Dress                                     1\n",
       "Parc Sans Souci at Potsdam                          1\n",
       "Moonlight                                           1\n",
       "St. Barbara                                         1\n",
       "the central panel from St. Hippolytus Triptych      1\n",
       "New Year's Greeting Card                            1\n",
       "concetto di distorsione                             1\n",
       "Jalouzieënreliëf/Fanlight-shutters                  1\n",
       "Market Place                                        1\n",
       "La Dame de Biarritz                                 1\n",
       "Village Life                                        1\n",
       "Name: artist, Length: 2084, dtype: int64"
      ]
     },
     "execution_count": 141,
     "metadata": {},
     "output_type": "execute_result"
    }
   ],
   "source": [
    "all_nonull.artist.value_counts()"
   ]
  },
  {
   "cell_type": "code",
   "execution_count": 167,
   "metadata": {},
   "outputs": [
    {
     "name": "stderr",
     "output_type": "stream",
     "text": [
      "/Users/jenelleverrochi/anaconda3/lib/python3.6/site-packages/ipykernel_launcher.py:1: SettingWithCopyWarning: \n",
      "A value is trying to be set on a copy of a slice from a DataFrame.\n",
      "Try using .loc[row_indexer,col_indexer] = value instead\n",
      "\n",
      "See the caveats in the documentation: http://pandas.pydata.org/pandas-docs/stable/indexing.html#indexing-view-versus-copy\n",
      "  \"\"\"Entry point for launching an IPython kernel.\n"
     ]
    }
   ],
   "source": [
    "all_nonull['date'] = all_nonull['date'].map(lambda x: x.lstrip('ly '))"
   ]
  },
  {
   "cell_type": "code",
   "execution_count": 168,
   "metadata": {},
   "outputs": [
    {
     "data": {
      "text/plain": [
       "1136"
      ]
     },
     "execution_count": 168,
     "metadata": {},
     "output_type": "execute_result"
    }
   ],
   "source": [
    "len(all_nonull.date.unique())"
   ]
  },
  {
   "cell_type": "code",
   "execution_count": 179,
   "metadata": {},
   "outputs": [
    {
     "data": {
      "text/plain": [
       "0         1955.0\n",
       "1         1950.0\n",
       "7           1838\n",
       "8         1963.0\n",
       "10          1844\n",
       "11        1937.0\n",
       "14          1873\n",
       "15          1890\n",
       "16          1838\n",
       "18          1515\n",
       "19          1850\n",
       "20          1968\n",
       "21          1838\n",
       "22        1952.0\n",
       "23          1439\n",
       "24          1896\n",
       "25        1891.0\n",
       "26          1824\n",
       "28          1866\n",
       "30        1612.0\n",
       "31          1835\n",
       "32          1645\n",
       "36        1936.0\n",
       "37          1562\n",
       "38          1635\n",
       "39          1534\n",
       "40        1924.0\n",
       "42          1783\n",
       "43        1925.0\n",
       "45          1541\n",
       "           ...  \n",
       "103206    1948.0\n",
       "103208    1973.0\n",
       "103210    1974.0\n",
       "103211    1991.0\n",
       "103212    1942.0\n",
       "103213      1920\n",
       "103215      1917\n",
       "103216    1944.0\n",
       "103219    1904.0\n",
       "103220    1967.0\n",
       "103221    1975.0\n",
       "103222    1964.0\n",
       "103223    1982.0\n",
       "103224    1971.0\n",
       "103226      1647\n",
       "103227      1958\n",
       "103228    1930.0\n",
       "103230      1940\n",
       "103232    1882.0\n",
       "103233    1975.0\n",
       "103234    1979.0\n",
       "103235    1981.0\n",
       "103236    1964.0\n",
       "103238    1978.0\n",
       "103240      1433\n",
       "103241    1957.0\n",
       "103242      1509\n",
       "103243      1954\n",
       "103245    1948.0\n",
       "103249      1913\n",
       "Name: date, Length: 75858, dtype: object"
      ]
     },
     "execution_count": 179,
     "metadata": {},
     "output_type": "execute_result"
    }
   ],
   "source": [
    "all_nonull.date"
   ]
  },
  {
   "cell_type": "code",
   "execution_count": null,
   "metadata": {},
   "outputs": [],
   "source": []
  },
  {
   "cell_type": "code",
   "execution_count": null,
   "metadata": {
    "collapsed": true
   },
   "outputs": [],
   "source": []
  },
  {
   "cell_type": "code",
   "execution_count": 9,
   "metadata": {},
   "outputs": [
    {
     "data": {
      "text/plain": [
       "(79433, 6)"
      ]
     },
     "execution_count": 9,
     "metadata": {},
     "output_type": "execute_result"
    }
   ],
   "source": [
    "train_info.shape"
   ]
  },
  {
   "cell_type": "code",
   "execution_count": 12,
   "metadata": {},
   "outputs": [
    {
     "data": {
      "text/plain": [
       "filename        0\n",
       "artist          0\n",
       "title          13\n",
       "style         765\n",
       "genre         893\n",
       "date        20255\n",
       "dtype: int64"
      ]
     },
     "execution_count": 12,
     "metadata": {},
     "output_type": "execute_result"
    }
   ],
   "source": [
    "train_info.isnull().sum()"
   ]
  },
  {
   "cell_type": "code",
   "execution_count": null,
   "metadata": {
    "collapsed": true
   },
   "outputs": [],
   "source": []
  }
 ],
 "metadata": {
  "kernelspec": {
   "display_name": "Python 3",
   "language": "python",
   "name": "python3"
  },
  "language_info": {
   "codemirror_mode": {
    "name": "ipython",
    "version": 3
   },
   "file_extension": ".py",
   "mimetype": "text/x-python",
   "name": "python",
   "nbconvert_exporter": "python",
   "pygments_lexer": "ipython3",
   "version": "3.6.2"
  }
 },
 "nbformat": 4,
 "nbformat_minor": 2
}
